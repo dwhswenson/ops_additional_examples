{
 "cells": [
  {
   "cell_type": "code",
   "execution_count": 1,
   "metadata": {
    "collapsed": true
   },
   "outputs": [],
   "source": [
    "from __future__ import print_function\n",
    "import openpathsampling as paths"
   ]
  },
  {
   "cell_type": "markdown",
   "metadata": {},
   "source": [
    "# New Network Input in OpenPathSampling\n",
    "\n",
    "This notebook includes some demonstrations of the features that were added by the E-CAM module that created an improved approach to network creation in OpenPathSampling. The improved approach has two main subunits:\n",
    "\n",
    "* Improved treatment of interface sets\n",
    "* Improved treatment of multiple state outer interface\n",
    "\n",
    "To show some examples, I will create a simple collective variable to use as the basis of tests."
   ]
  },
  {
   "cell_type": "code",
   "execution_count": 2,
   "metadata": {
    "collapsed": true
   },
   "outputs": [],
   "source": [
    "cv = paths.CoordinateFunctionCV(\"x\", lambda snap: snap.xyz[0][0])"
   ]
  },
  {
   "cell_type": "markdown",
   "metadata": {},
   "source": [
    "## Interface sets\n",
    "\n",
    "There are a few points to consider about the definition of interface sets. The most common case is that each interface volume is defined by the same CV, with different maximum values of the CV, but the same minimum value. However, it is also possible to have interface sets where both minimum and maximum value are changing (the value of $\\lambda$ is not uniquely defined by inspecting the `Volume` objects) or where the interfaces don't all grow in terms of a single common CV.\n",
    "\n",
    "The latter two examples still aren't really supported by our analysis, but we want to make sure that it is possible to support them in the future. However, it would be helpful to make the most common use cases simple."
   ]
  },
  {
   "cell_type": "markdown",
   "metadata": {},
   "source": [
    "### Ways of creating the new InterfaceSet\n",
    "\n",
    "The most common way to create the interface set is barely changed from the previous version. The only difference that is that we use the `VolumeInterfaceSet` object, instead of the `VolumeFactory.CVRangeVolumeSet` function."
   ]
  },
  {
   "cell_type": "code",
   "execution_count": 3,
   "metadata": {
    "collapsed": true
   },
   "outputs": [],
   "source": [
    "interface_set = paths.VolumeInterfaceSet(cv=cv, minvals=0.0, maxvals=[0.2, 0.3, 0.4])"
   ]
  },
  {
   "cell_type": "markdown",
   "metadata": {},
   "source": [
    "There are other ways to create the interface set. One approach, which is essentially equivalent, would be:"
   ]
  },
  {
   "cell_type": "code",
   "execution_count": 4,
   "metadata": {
    "collapsed": true
   },
   "outputs": [],
   "source": [
    "vol1 = paths.CVDefinedVolume(cv, 0.0, 0.2)\n",
    "vol2 = paths.CVDefinedVolume(cv, 0.0, 0.3)\n",
    "vol3 = paths.CVDefinedVolume(cv, 0.0, 0.4)\n",
    "\n",
    "interface_set_2 = paths.InterfaceSet(volumes=[vol1, vol2, vol3],\n",
    "                                     cv=cv,\n",
    "                                     lambdas=[0.2, 0.3, 0.4])"
   ]
  },
  {
   "cell_type": "markdown",
   "metadata": {},
   "source": [
    "We can also create other interface sets, which don't have unique values of $\\lambda$ associated:"
   ]
  },
  {
   "cell_type": "code",
   "execution_count": 5,
   "metadata": {
    "collapsed": true
   },
   "outputs": [],
   "source": [
    "interface_set_3 = paths.VolumeInterfaceSet(cv=cv, minvals=[-0.1, -0.2, -0.3], maxvals=[0.1, 0.2, 0.3])"
   ]
  },
  {
   "cell_type": "code",
   "execution_count": 6,
   "metadata": {
    "collapsed": true
   },
   "outputs": [],
   "source": [
    "# equivalent to interface_set_3\n",
    "vol1 = paths.CVDefinedVolume(cv, -0.1, 0.1)\n",
    "vol2 = paths.CVDefinedVolume(cv, -0.2, 0.2)\n",
    "vol3 = paths.CVDefinedVolume(cv, -0.3, 0.3)\n",
    "interface_set_4 = paths.InterfaceSet(volumes=[vol1, vol2, vol3], cv=cv)"
   ]
  },
  {
   "cell_type": "markdown",
   "metadata": {},
   "source": [
    "We can also force all of the volumes created by a `VolumeInterfaceSet` to be intersected with some fixed volume. Of course, doing the same with an `InterfaceSet` (which takes the interface volumes as input, instead of generating them) is trivial."
   ]
  },
  {
   "cell_type": "code",
   "execution_count": 7,
   "metadata": {
    "collapsed": true
   },
   "outputs": [],
   "source": [
    "cv_y = paths.CoordinateFunctionCV(\"y\", lambda snap: snap.xyz[0][1])\n",
    "volume_y = paths.CVDefinedVolume(cv_y, -1.0, 1.0)"
   ]
  },
  {
   "cell_type": "code",
   "execution_count": 8,
   "metadata": {
    "collapsed": true
   },
   "outputs": [],
   "source": [
    "interface_set_5 = paths.VolumeInterfaceSet(cv=cv, minvals=0.0, maxvals=[0.2, 0.3, 0.4], intersect_with=volume_y)"
   ]
  },
  {
   "cell_type": "markdown",
   "metadata": {},
   "source": [
    "### Associating values of $\\lambda$ with the interfaces\n",
    "\n",
    "One of the major advances here is that we can access the values of the order parameter associated with each interface. This wasn't possible before, and makes analysis much easier."
   ]
  },
  {
   "cell_type": "code",
   "execution_count": 9,
   "metadata": {},
   "outputs": [
    {
     "name": "stdout",
     "output_type": "stream",
     "text": [
      "[0.2, 0.3, 0.4]\n"
     ]
    }
   ],
   "source": [
    "print(interface_set.lambdas)"
   ]
  },
  {
   "cell_type": "code",
   "execution_count": 10,
   "metadata": {},
   "outputs": [
    {
     "name": "stdout",
     "output_type": "stream",
     "text": [
      "[0.2, 0.3, 0.4]\n"
     ]
    }
   ],
   "source": [
    "print(interface_set_2.lambdas)"
   ]
  },
  {
   "cell_type": "code",
   "execution_count": 11,
   "metadata": {},
   "outputs": [
    {
     "name": "stdout",
     "output_type": "stream",
     "text": [
      "[0.2, 0.3, 0.4]\n"
     ]
    }
   ],
   "source": [
    "print(interface_set_5.lambdas)"
   ]
  },
  {
   "cell_type": "markdown",
   "metadata": {},
   "source": [
    "Note that not all interface sets have lambda values associated with them. As mentioned above, in some cases, this is literally impossible."
   ]
  },
  {
   "cell_type": "code",
   "execution_count": 12,
   "metadata": {},
   "outputs": [
    {
     "name": "stdout",
     "output_type": "stream",
     "text": [
      "None\n",
      "None\n"
     ]
    }
   ],
   "source": [
    "print(interface_set_3.lambdas)\n",
    "print(interface_set_4.lambdas)"
   ]
  },
  {
   "cell_type": "markdown",
   "metadata": {},
   "source": [
    "### Creating a new interface for the set\n",
    "\n",
    "Another new feature is the ability to create a new interface for a given set. This only works for `VolumeInterfaceSet`s."
   ]
  },
  {
   "cell_type": "code",
   "execution_count": 13,
   "metadata": {},
   "outputs": [
    {
     "data": {
      "text/plain": [
       "<openpathsampling.volume.CVDefinedVolume at 0x11176cb10>"
      ]
     },
     "execution_count": 13,
     "metadata": {},
     "output_type": "execute_result"
    }
   ],
   "source": [
    "interface_set.new_interface(lambda_i=0.5)"
   ]
  },
  {
   "cell_type": "code",
   "execution_count": 14,
   "metadata": {},
   "outputs": [
    {
     "data": {
      "text/plain": [
       "<openpathsampling.volume.IntersectionVolume at 0x11176ce50>"
      ]
     },
     "execution_count": 14,
     "metadata": {},
     "output_type": "execute_result"
    }
   ],
   "source": [
    "interface_set_5.new_interface(lambda_i=0.5)"
   ]
  },
  {
   "cell_type": "code",
   "execution_count": 15,
   "metadata": {},
   "outputs": [
    {
     "name": "stdout",
     "output_type": "stream",
     "text": [
      "'InterfaceSet' object has no attribute 'new_interface'\n"
     ]
    }
   ],
   "source": [
    "# We print the message of the AttributeError, but ignore the crash\n",
    "try:\n",
    "    interface_set_2.new_interface(lambda_i=0.5)\n",
    "except AttributeError as e:\n",
    "    print(e)"
   ]
  },
  {
   "cell_type": "markdown",
   "metadata": {},
   "source": [
    "### Improving analysis due to the new interface sets\n",
    "\n",
    "Thanks to these new interface sets, we have the ability to identify the volume of lambda for any volume:"
   ]
  },
  {
   "cell_type": "code",
   "execution_count": 16,
   "metadata": {},
   "outputs": [
    {
     "data": {
      "text/plain": [
       "0.2"
      ]
     },
     "execution_count": 16,
     "metadata": {},
     "output_type": "execute_result"
    }
   ],
   "source": [
    "volume = interface_set.volumes[0]\n",
    "interface_set.get_lambda(volume)"
   ]
  },
  {
   "cell_type": "markdown",
   "metadata": {},
   "source": [
    "This makes it possible to perform analyses that were previously guesswork. For example, it used to require a complicated algorithm with several assumptions in order to obtain the value of $\\lambda$ for the outermost ensemble. Now it can be obtained with:"
   ]
  },
  {
   "cell_type": "code",
   "execution_count": 17,
   "metadata": {},
   "outputs": [
    {
     "name": "stdout",
     "output_type": "stream",
     "text": [
      "0.4\n"
     ]
    }
   ],
   "source": [
    "outermost_lambda = interface_set.get_lambda(interface_set[-1])\n",
    "print(outermost_lambda)"
   ]
  },
  {
   "cell_type": "markdown",
   "metadata": {},
   "source": [
    "## Multiple State Outer Interface\n",
    "\n",
    "The other main improvement in this module is the development of a better approach to handle the multiple state outer interface. The MS-outer interface itself is a somewhat confusing object; the previous input setup was even more confusing.\n",
    "\n",
    "First, let's remember the distinction between an interface and an ensemble. An interface is a volume of points in phase space, whereas an ensemble is a set of rules that define whether a trajectory is in or out of the ensemble. Most ensembles in TIS must begin in a specific initial ensemble. However, the MS-outer ensemble allows the trajectory to begin in any of several states. It is easiest to think of the MS-outer ensemble as the set-theoretic union of MSTIS ensembles associated with several initial states. This means that the \"interface\" is actually several volumes, which must later be associated with the combined ensemble.\n",
    "\n",
    "Previously, the MS-outer interface was created by implicitly assuming that certain interfaces given by the user were intended to be turned into an MS-outer interface. This could lead to confusion when one of the user's ensembles \"disappeared.\" Worse, the MS-outer interface was only created under certain specific conditions, leading in inconsistency.\n",
    "\n",
    "Finally, although the MS-outer ensemble can be used to facilitate replica exchange between different interface sets, the better way of doing that is with a state-swap move. The changes in this module make the MS-outer interface optional, so that it can easily be replaced by the state-swap move."
   ]
  },
  {
   "cell_type": "code",
   "execution_count": 18,
   "metadata": {},
   "outputs": [],
   "source": [
    "# add another CV, and interface_set coming from that CV\n",
    "cv_prime = paths.CoordinateFunctionCV(\"1-x\", lambda snap: 1.0-snap.xyz[0][0])\n",
    "reverse_set = paths.VolumeInterfaceSet(cv_prime, 0.0, [0.2, 0.3, 0.4])"
   ]
  },
  {
   "cell_type": "markdown",
   "metadata": {},
   "source": [
    "### New object to represent MS-outer interface\n",
    "\n",
    "We replace the implicit MS-outer interface with an explicit MS-outer interface. If the user wants an MS-outer, it must be made.\n",
    "\n",
    "In order to create the correct MS-outer ensemble, the MS-outer interface needs to create a volume for each interface set that it should combine. This means it requires the `InterfaceSet` objects decribed above. One approach to setting up the MS-outer interface is to explicitly create the volumes, and associate them with each interface:"
   ]
  },
  {
   "cell_type": "code",
   "execution_count": 19,
   "metadata": {
    "collapsed": true
   },
   "outputs": [],
   "source": [
    "vol = interface_set.new_interface(lambda_i=0.5)\n",
    "vol_prime = reverse_set.new_interface(lambda_i=0.45)\n",
    "ms_outer = paths.MSOuterTISInterface(\n",
    "    interface_sets=[interface_set, reverse_set],\n",
    "    volumes=[vol, vol_prime],\n",
    "    lambdas=[0.5, 0.45]\n",
    ")"
   ]
  },
  {
   "cell_type": "markdown",
   "metadata": {},
   "source": [
    "Since the `VolumeInterfaceSet` knows how to create its own volumes for a given $\\lambda$, there is a simpler way to make the equivalent MS-outer interface:"
   ]
  },
  {
   "cell_type": "code",
   "execution_count": 20,
   "metadata": {},
   "outputs": [],
   "source": [
    "simple_ms_outer = paths.MSOuterTISInterface.from_lambdas({\n",
    "    interface_set: 0.5,\n",
    "    reverse_set: 0.45\n",
    "})"
   ]
  },
  {
   "cell_type": "markdown",
   "metadata": {},
   "source": [
    "### Making the MS-outer interface optional\n",
    "\n",
    "The MS-outer interface object is then given as an option to the `TransitionNetwork` for either MSTIS or MISTIS. The network can be build either with or without the MS-outer interface."
   ]
  },
  {
   "cell_type": "code",
   "execution_count": 21,
   "metadata": {
    "collapsed": true
   },
   "outputs": [],
   "source": [
    "state_A = paths.CVDefinedVolume(cv, 0.0, 0.2)\n",
    "state_B = paths.CVDefinedVolume(cv_prime, 0.0, 0.2)\n",
    "\n",
    "# with\n",
    "network_with_msouter = paths.MSTISNetwork(\n",
    "    [(state_A, interface_set), (state_B, reverse_set)],\n",
    "    ms_outers=simple_ms_outer\n",
    ")\n",
    "\n",
    "\n",
    "# without\n",
    "network_without_msouter = paths.MSTISNetwork(\n",
    "    [(state_A, interface_set), (state_B, reverse_set)]\n",
    ")"
   ]
  },
  {
   "cell_type": "markdown",
   "metadata": {},
   "source": [
    "We can see that the the MS-outer ensemble in the MSTIS network provides a way to connect the transitions associated with the two interface sets."
   ]
  },
  {
   "cell_type": "code",
   "execution_count": 22,
   "metadata": {},
   "outputs": [
    {
     "name": "stdout",
     "output_type": "stream",
     "text": [
      "{<openpathsampling.ensemble.UnionEnsemble object at 0x1117dd350>: [<openpathsampling.high_level.transition.TISTransition object at 0x111783350>, <openpathsampling.high_level.transition.TISTransition object at 0x11175a650>]}\n"
     ]
    }
   ],
   "source": [
    "print(network_with_msouter.special_ensembles['ms_outer'])"
   ]
  },
  {
   "cell_type": "code",
   "execution_count": 23,
   "metadata": {},
   "outputs": [
    {
     "name": "stdout",
     "output_type": "stream",
     "text": [
      "False\n"
     ]
    }
   ],
   "source": [
    "print('ms_outer' in network_without_msouter.special_ensembles)"
   ]
  }
 ],
 "metadata": {
  "kernelspec": {
   "display_name": "Python 3",
   "language": "python",
   "name": "python3"
  },
  "language_info": {
   "codemirror_mode": {
    "name": "ipython",
    "version": 3
   },
   "file_extension": ".py",
   "mimetype": "text/x-python",
   "name": "python",
   "nbconvert_exporter": "python",
   "pygments_lexer": "ipython3",
   "version": "3.7.10"
  },
  "toc": {
   "base_numbering": 1,
   "nav_menu": {},
   "number_sections": true,
   "sideBar": true,
   "skip_h1_title": true,
   "title_cell": "Table of Contents",
   "title_sidebar": "Contents",
   "toc_cell": false,
   "toc_position": {},
   "toc_section_display": true,
   "toc_window_display": true
  },
  "varInspector": {
   "cols": {
    "lenName": 16,
    "lenType": 16,
    "lenVar": 40
   },
   "kernels_config": {
    "python": {
     "delete_cmd_postfix": "",
     "delete_cmd_prefix": "del ",
     "library": "var_list.py",
     "varRefreshCmd": "print(var_dic_list())"
    },
    "r": {
     "delete_cmd_postfix": ") ",
     "delete_cmd_prefix": "rm(",
     "library": "var_list.r",
     "varRefreshCmd": "cat(var_dic_list()) "
    }
   },
   "types_to_exclude": [
    "module",
    "function",
    "builtin_function_or_method",
    "instance",
    "_Feature"
   ],
   "window_display": false
  }
 },
 "nbformat": 4,
 "nbformat_minor": 1
}

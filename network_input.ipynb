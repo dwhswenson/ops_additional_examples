{
 "cells": [
  {
   "cell_type": "code",
   "execution_count": 1,
   "metadata": {
    "collapsed": true
   },
   "outputs": [],
   "source": [
    "import openpathsampling as paths"
   ]
  },
  {
   "cell_type": "markdown",
   "metadata": {},
   "source": [
    "# New Network Input in OpenPathSampling\n",
    "\n",
    "This notebook includes some demonstrations of the features that were added by the E-CAM module that created an improved approach to network creation in OpenPathSampling. The improved approach has two main subunits:\n",
    "\n",
    "* Improved treatment of interface sets\n",
    "* Improved treatment of multiple state outer interface\n",
    "\n",
    "To show some examples, I will create a simple collective variable to use as the basis of tests."
   ]
  },
  {
   "cell_type": "code",
   "execution_count": 2,
   "metadata": {
    "collapsed": true
   },
   "outputs": [],
   "source": [
    "cv = paths.CoordinateFunctionCV(\"x\", lambda snap: snap.xyz[0][0])"
   ]
  },
  {
   "cell_type": "markdown",
   "metadata": {},
   "source": [
    "## Interface sets\n",
    "\n",
    "There are a few points to consider about the definition of interface sets. The most common case is that each interface volume is defined by the same CV, with different maximum values of the CV, but the same minimum value. However, it is also possible to have interface sets where both minimum and maximum value are changing (the value of $\\lambda$ is not uniquely defined by inspecting the `Volume` objects) or where the interfaces don't all grow in terms of a single common CV.\n",
    "\n",
    "The latter two examples still aren't really supported by our analysis, but we want to make sure that it is possible to support them in the future. However, it would be helpful to make the most common use cases simple."
   ]
  },
  {
   "cell_type": "markdown",
   "metadata": {},
   "source": [
    "### Ways of creating the new InterfaceSet\n",
    "\n",
    "The most common way to create the interface set is barely changed from the previous version. The only difference that is that we use the `VolumeInterfaceSet` object, instead of the `VolumeFactory.CVRangeVolumeSet` function."
   ]
  },
  {
   "cell_type": "code",
   "execution_count": 3,
   "metadata": {
    "collapsed": true
   },
   "outputs": [],
   "source": [
    "interface_set = paths.VolumeInterfaceSet(cv=cv, minvals=0.0, maxvals=[0.2, 0.3, 0.4])"
   ]
  },
  {
   "cell_type": "markdown",
   "metadata": {},
   "source": [
    "There are other ways to create the interface set. One approach, which is essentially equivalent, would be:"
   ]
  },
  {
   "cell_type": "code",
   "execution_count": 4,
   "metadata": {
    "collapsed": true
   },
   "outputs": [],
   "source": [
    "vol1 = paths.CVDefinedVolume(cv, 0.0, 0.2)\n",
    "vol2 = paths.CVDefinedVolume(cv, 0.0, 0.3)\n",
    "vol3 = paths.CVDefinedVolume(cv, 0.0, 0.4)\n",
    "\n",
    "interface_set_2 = paths.InterfaceSet(volumes=[vol1, vol2, vol3],\n",
    "                                     cv=cv,\n",
    "                                     lambdas=[0.2, 0.3, 0.4])"
   ]
  },
  {
   "cell_type": "markdown",
   "metadata": {},
   "source": [
    "We can also create other interface sets, which don't have unique values of $\\lambda$ associated:"
   ]
  },
  {
   "cell_type": "code",
   "execution_count": 5,
   "metadata": {
    "collapsed": true
   },
   "outputs": [],
   "source": [
    "interface_set_3 = paths.VolumeInterfaceSet(cv=cv, minvals=[-0.1, -0.2, -0.3], maxvals=[0.1, 0.2, 0.3])"
   ]
  },
  {
   "cell_type": "code",
   "execution_count": 6,
   "metadata": {
    "collapsed": true
   },
   "outputs": [],
   "source": [
    "# equivalent to interface_set_3\n",
    "vol1 = paths.CVDefinedVolume(cv, -0.1, 0.1)\n",
    "vol2 = paths.CVDefinedVolume(cv, -0.2, 0.2)\n",
    "vol3 = paths.CVDefinedVolume(cv, -0.3, 0.3)\n",
    "interface_set_4 = paths.InterfaceSet(volumes=[vol1, vol2, vol3], cv=cv)"
   ]
  },
  {
   "cell_type": "markdown",
   "metadata": {},
   "source": [
    "We can also force all of the volumes created by a `VolumeInterfaceSet` to be intersected with some fixed volume. Of course, doing the same with an `InterfaceSet` (which takes the interface volumes as input, instead of generating them) is trivial."
   ]
  },
  {
   "cell_type": "code",
   "execution_count": 7,
   "metadata": {
    "collapsed": true
   },
   "outputs": [],
   "source": [
    "cv_y = paths.CoordinateFunctionCV(\"y\", lambda snap: snap.xyz[0][1])\n",
    "volume_y = paths.CVDefinedVolume(cv_y, -1.0, 1.0)"
   ]
  },
  {
   "cell_type": "code",
   "execution_count": 8,
   "metadata": {
    "collapsed": true
   },
   "outputs": [],
   "source": [
    "interface_set_5 = paths.VolumeInterfaceSet(cv=cv, minvals=0.0, maxvals=[0.2, 0.3, 0.4], intersect_with=volume_y)"
   ]
  },
  {
   "cell_type": "markdown",
   "metadata": {},
   "source": [
    "### Associating values of $\\lambda$ with the interfaces\n",
    "\n",
    "One of the major advances here is that we can access the values of the order parameter associated with each interface. This wasn't possible before, and makes analysis much easier."
   ]
  },
  {
   "cell_type": "code",
   "execution_count": 9,
   "metadata": {
    "collapsed": false
   },
   "outputs": [
    {
     "name": "stdout",
     "output_type": "stream",
     "text": [
      "[0.2, 0.3, 0.4]\n"
     ]
    }
   ],
   "source": [
    "print interface_set.lambdas"
   ]
  },
  {
   "cell_type": "code",
   "execution_count": 10,
   "metadata": {
    "collapsed": false
   },
   "outputs": [
    {
     "name": "stdout",
     "output_type": "stream",
     "text": [
      "[0.2, 0.3, 0.4]\n"
     ]
    }
   ],
   "source": [
    "print interface_set_2.lambdas"
   ]
  },
  {
   "cell_type": "code",
   "execution_count": 11,
   "metadata": {
    "collapsed": false
   },
   "outputs": [
    {
     "name": "stdout",
     "output_type": "stream",
     "text": [
      "[0.2, 0.3, 0.4]\n"
     ]
    }
   ],
   "source": [
    "print interface_set_5.lambdas"
   ]
  },
  {
   "cell_type": "markdown",
   "metadata": {},
   "source": [
    "Note that not all interface sets have lambda values associated with them. As mentioned above, in some cases, this is literally impossible."
   ]
  },
  {
   "cell_type": "code",
   "execution_count": 12,
   "metadata": {
    "collapsed": false
   },
   "outputs": [
    {
     "name": "stdout",
     "output_type": "stream",
     "text": [
      "None\n",
      "None\n"
     ]
    }
   ],
   "source": [
    "print interface_set_3.lambdas\n",
    "print interface_set_4.lambdas"
   ]
  },
  {
   "cell_type": "markdown",
   "metadata": {},
   "source": [
    "### Creating a new interface for the set\n",
    "\n",
    "Another new feature is the ability to create a new interface for a given set. This only works for `VolumeInterfaceSet`s."
   ]
  },
  {
   "cell_type": "code",
   "execution_count": 13,
   "metadata": {
    "collapsed": false
   },
   "outputs": [
    {
     "data": {
      "text/plain": [
       "<openpathsampling.volume.CVDefinedVolume at 0x1175de090>"
      ]
     },
     "execution_count": 13,
     "metadata": {},
     "output_type": "execute_result"
    }
   ],
   "source": [
    "interface_set.new_interface(lambda_i=0.5)"
   ]
  },
  {
   "cell_type": "code",
   "execution_count": 14,
   "metadata": {
    "collapsed": false
   },
   "outputs": [
    {
     "data": {
      "text/plain": [
       "<openpathsampling.volume.IntersectionVolume at 0x1175ded50>"
      ]
     },
     "execution_count": 14,
     "metadata": {},
     "output_type": "execute_result"
    }
   ],
   "source": [
    "interface_set_5.new_interface(lambda_i=0.5)"
   ]
  },
  {
   "cell_type": "code",
   "execution_count": 15,
   "metadata": {
    "collapsed": false
   },
   "outputs": [
    {
     "name": "stdout",
     "output_type": "stream",
     "text": [
      "'InterfaceSet' object has no attribute 'new_interface'\n"
     ]
    }
   ],
   "source": [
    "# We print the message of the AttributeError, but ignore the crash\n",
    "try:\n",
    "    interface_set_2.new_interface(lambda_i=0.5)\n",
    "except AttributeError as e:\n",
    "    print e"
   ]
  },
  {
   "cell_type": "markdown",
   "metadata": {},
   "source": [
    "### Improving analysis due to the new interface sets\n",
    "\n",
    "Thanks to these new interface sets, we have the ability to identify the volume of lambda for any volume:"
   ]
  },
  {
   "cell_type": "code",
   "execution_count": 16,
   "metadata": {
    "collapsed": false
   },
   "outputs": [
    {
     "data": {
      "text/plain": [
       "0.2"
      ]
     },
     "execution_count": 16,
     "metadata": {},
     "output_type": "execute_result"
    }
   ],
   "source": [
    "volume = interface_set.volumes[0]\n",
    "interface_set.get_lambda(volume)"
   ]
  },
  {
   "cell_type": "markdown",
   "metadata": {},
   "source": [
    "This makes it possible to perform analyses that were previously guesswork. For example, it used to require a complicated algorithm with several assumptions in order to obtain the value of $\\lambda$ for the outermost ensemble. Now it can be obtained with:"
   ]
  },
  {
   "cell_type": "code",
   "execution_count": 18,
   "metadata": {
    "collapsed": false
   },
   "outputs": [
    {
     "name": "stdout",
     "output_type": "stream",
     "text": [
      "0.4\n"
     ]
    }
   ],
   "source": [
    "outermost_lambda = interface_set.get_lambda(interface_set[-1])\n",
    "print outermost_lambda"
   ]
  },
  {
   "cell_type": "markdown",
   "metadata": {},
   "source": [
    "## Multiple State Outer Interface\n",
    "\n",
    "The other main improvement in this module is the development of a better approach to handle the multiple state outer interface."
   ]
  },
  {
   "cell_type": "markdown",
   "metadata": {},
   "source": [
    "### New object to represent MS-outer interface"
   ]
  },
  {
   "cell_type": "markdown",
   "metadata": {},
   "source": [
    "### Making the MS-outer interface optional"
   ]
  },
  {
   "cell_type": "code",
   "execution_count": null,
   "metadata": {
    "collapsed": true
   },
   "outputs": [],
   "source": []
  }
 ],
 "metadata": {
  "kernelspec": {
   "display_name": "Python 2",
   "language": "python",
   "name": "python2"
  },
  "language_info": {
   "codemirror_mode": {
    "name": "ipython",
    "version": 2
   },
   "file_extension": ".py",
   "mimetype": "text/x-python",
   "name": "python",
   "nbconvert_exporter": "python",
   "pygments_lexer": "ipython2",
   "version": "2.7.12"
  }
 },
 "nbformat": 4,
 "nbformat_minor": 1
}

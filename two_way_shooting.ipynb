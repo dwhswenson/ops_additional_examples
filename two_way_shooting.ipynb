{
 "cells": [
  {
   "cell_type": "markdown",
   "metadata": {},
   "source": [
    "# Two-Way Shooting\n",
    "\n",
    "This example shows how use two-way shooting in OpenPathSampling."
   ]
  },
  {
   "cell_type": "code",
   "execution_count": 1,
   "metadata": {
    "collapsed": true
   },
   "outputs": [],
   "source": [
    "%matplotlib inline\n",
    "import matplotlib.pyplot as plt\n",
    "import openpathsampling as paths\n",
    "import numpy as np\n",
    "\n",
    "from openpathsampling.engines import toy as toys"
   ]
  },
  {
   "cell_type": "markdown",
   "metadata": {},
   "source": [
    "We start out by creating a simple toy potential energy surface, defining a couple of states, and creating a trajectory that connects the two states."
   ]
  },
  {
   "cell_type": "code",
   "execution_count": 2,
   "metadata": {
    "collapsed": false
   },
   "outputs": [],
   "source": [
    "# a simple toy PES\n",
    "pes = (toys.OuterWalls([1.0,1.0], [0.0,0.0]) + \n",
    "       toys.Gaussian(-0.7, [12.0, 0.5], [-0.5, 0.0]) +\n",
    "       toys.Gaussian(-0.7, [12.0, 0.5], [0.5, 0.0]))\n",
    "topology = toys.Topology(n_spatial=2, masses=np.array([1.0]), pes=pes)\n",
    "engine = toys.Engine({'integ': toys.LangevinBAOABIntegrator(dt=0.02, temperature=0.005, gamma=0.000001),\n",
    "                      'n_frames_max': 5000,\n",
    "                      'n_steps_per_frame': 10}, topology)\n",
    "template = toys.Snapshot(coordinates=np.array([[0.0, 0.0]]),\n",
    "                         velocities=np.array([[0.1, 0.0]]),\n",
    "                         engine=engine)\n",
    "\n",
    "cv_x = paths.CoordinateFunctionCV(\"x\", lambda snap: snap.xyz[0][0])\n",
    "cv_y = paths.CoordinateFunctionCV(\"y\", lambda snap: snap.xyz[0][1])\n",
    "left_state = paths.CVDefinedVolume(cv_x, lambda_min=float(\"-inf\"), lambda_max=-0.3)\n",
    "right_state = paths.CVDefinedVolume(cv_x, lambda_min=0.3, lambda_max=float(\"inf\"))\n",
    "network = paths.TPSNetwork(left_state, right_state)\n",
    "\n",
    "# a fake trajectory\n",
    "fw_shot = engine.generate(template, paths.AllOutXEnsemble(left_state | right_state))\n",
    "bw_shot = engine.generate(template.reversed, paths.AllOutXEnsemble(left_state | right_state))\n",
    "trajectory = bw_shot.reversed + fw_shot[1:]\n",
    "\n",
    "initial_conditions = paths.SampleSet([\n",
    "    paths.Sample(replica=0,\n",
    "                 ensemble=network.sampling_ensembles[0],\n",
    "                 trajectory=trajectory)\n",
    "])"
   ]
  },
  {
   "cell_type": "code",
   "execution_count": 3,
   "metadata": {
    "collapsed": false
   },
   "outputs": [
    {
     "data": {
      "text/plain": [
       "(-0.5, 0.5)"
      ]
     },
     "execution_count": 3,
     "metadata": {},
     "output_type": "execute_result"
    },
    {
     "data": {
      "image/png": "[encoded data removed]",
      "text/plain": [
       "<matplotlib.figure.Figure at 0x10d03df50>"
      ]
     },
     "metadata": {},
     "output_type": "display_data"
    }
   ],
   "source": [
    "plt.plot(cv_x(trajectory), cv_y(trajectory), '-o')\n",
    "plt.xlim(-0.5, 0.5)\n",
    "plt.ylim(-0.5, 0.5)"
   ]
  },
  {
   "cell_type": "markdown",
   "metadata": {},
   "source": [
    "## Shooting point modifiers\n",
    "\n",
    "One of the things that distinguishes two-way shooting from one-way shooting is that two-way shooting involves modifying the shooting point snapshot. There are a lot of options for how you might change that snapshot; here we have implemented a few, and we'll show how they work.\n",
    "\n",
    "All `SnapshotModifier`s have an initialization option `subset_mask`, which allows you to specify a subset of the total atoms that this applies to. This allows you to, for example, only change the velocities of the solute atoms. This is not illustrated for this simple model, since the 2D toy has only one (pseudo-)atom."
   ]
  },
  {
   "cell_type": "markdown",
   "metadata": {},
   "source": [
    "### \"Direction\" changing modifiers\n",
    "\n",
    "Usually, when people are first introduced to path sampling (and to the shooting move in particular), they are told that you perturb the velocity at the shooting point. That's what the `VelocityDirectionModifier`s do. However, it is very hard to do this correctly in the presence of constraints, so if your system involves constraints, please use the thermal randomization approach.\n",
    "\n",
    "There are a couple versions of velocity direction modification, although in this toy model they do the same thing:\n",
    "\n",
    "* `VelocityDirectionModifer`: changes the direction of all atoms from the subset\n",
    "* `SingleAtomVelocityDirectionModifier`: changes the direction of a randomly selected atom from the subset\n",
    "\n",
    "In this example, we'll only use the first."
   ]
  },
  {
   "cell_type": "code",
   "execution_count": 4,
   "metadata": {
    "collapsed": true
   },
   "outputs": [],
   "source": [
    "# in a real system, you remove linear momentum. in this toy, doing so gives velocity=0!\n",
    "# the default is remove_linear_momentum=True\n",
    "direction_modifier = paths.VelocityDirectionModifier(delta_v=0.04, remove_linear_momentum=False)"
   ]
  },
  {
   "cell_type": "markdown",
   "metadata": {},
   "source": [
    "### Thermal randomization modifier"
   ]
  },
  {
   "cell_type": "code",
   "execution_count": 5,
   "metadata": {
    "collapsed": true
   },
   "outputs": [],
   "source": [
    "temperature = template.instantaneous_temperature  # use the temperature of the initial snapshot\n",
    "thermal_randomizer = paths.RandomVelocities(beta=1.0/temperature, engine=engine)"
   ]
  },
  {
   "cell_type": "markdown",
   "metadata": {},
   "source": [
    "## Manually building a two-way shooting mover\n",
    "\n",
    "Here we will build the two-way shooting mover, and show its output, as well as how different modifiers sample differently."
   ]
  },
  {
   "cell_type": "code",
   "execution_count": 6,
   "metadata": {
    "collapsed": true
   },
   "outputs": [],
   "source": [
    "tps_ensemble = network.sampling_ensembles[0]\n",
    "dir_change_mover = paths.TwoWayShootingMover(ensemble=tps_ensemble,\n",
    "                                             selector=paths.UniformSelector(),\n",
    "                                             modifier=direction_modifier,\n",
    "                                             engine=engine)"
   ]
  },
  {
   "cell_type": "markdown",
   "metadata": {},
   "source": [
    "Now we're going to shoot several times from the same initial trajectory, to show the variety of shots we can get with this mover."
   ]
  },
  {
   "cell_type": "code",
   "execution_count": 7,
   "metadata": {
    "collapsed": false
   },
   "outputs": [],
   "source": [
    "change = dir_change_mover.move(initial_conditions)\n",
    "changes = [change] + [dir_change_mover.move(initial_conditions) for i in range(4)]"
   ]
  },
  {
   "cell_type": "code",
   "execution_count": 8,
   "metadata": {
    "collapsed": false
   },
   "outputs": [
    {
     "data": {
      "text/plain": [
       "(-0.15, 0.15)"
      ]
     },
     "execution_count": 8,
     "metadata": {},
     "output_type": "execute_result"
    },
    {
     "data": {
      "image/png": "[encoded data removed]",
      "text/plain": [
       "<matplotlib.figure.Figure at 0x1159985d0>"
      ]
     },
     "metadata": {},
     "output_type": "display_data"
    }
   ],
   "source": [
    "plt.plot(cv_x(trajectory), cv_y(trajectory), '-o', lw=2, markersize=8)\n",
    "for change in changes:\n",
    "    plt.plot(cv_x(change.trials[0].trajectory), cv_y(change.trials[0].trajectory), '-o')\n",
    "plt.ylim(-0.15, 0.15)"
   ]
  },
  {
   "cell_type": "markdown",
   "metadata": {},
   "source": [
    "Because the magnitude of the change is rather small, and because the total kinetic energy in the direction of the transition is large in the original trajectory, note that nearly all the paths make a full crossing. Now let's compare that with the thermal randomizer."
   ]
  },
  {
   "cell_type": "code",
   "execution_count": 9,
   "metadata": {
    "collapsed": true
   },
   "outputs": [],
   "source": [
    "thermal_mover = paths.TwoWayShootingMover(ensemble=tps_ensemble,\n",
    "                                          selector=paths.UniformSelector(),\n",
    "                                          modifier=thermal_randomizer,\n",
    "                                          engine=engine)"
   ]
  },
  {
   "cell_type": "code",
   "execution_count": 10,
   "metadata": {
    "collapsed": false
   },
   "outputs": [
    {
     "data": {
      "text/plain": [
       "(-0.15, 0.15)"
      ]
     },
     "execution_count": 10,
     "metadata": {},
     "output_type": "execute_result"
    },
    {
     "data": {
      "image/png": "[encoded data removed]",
      "text/plain": [
       "<matplotlib.figure.Figure at 0x10d02b210>"
      ]
     },
     "metadata": {},
     "output_type": "display_data"
    }
   ],
   "source": [
    "change = thermal_mover.move(initial_conditions)\n",
    "changes = [change] + [thermal_mover.move(initial_conditions) for i in range(4)]\n",
    "\n",
    "plt.plot(cv_x(trajectory), cv_y(trajectory), '-o', lw=2, markersize=8)\n",
    "for change in changes:\n",
    "    plt.plot(cv_x(change.trials[0].trajectory), cv_y(change.trials[0].trajectory), '-o')\n",
    "plt.ylim(-0.15, 0.15)"
   ]
  },
  {
   "cell_type": "markdown",
   "metadata": {},
   "source": [
    "Sometimes, this doesn't even get a crossing. Here you'll often see paths that only go one direction: this is because the are forward-first shots that end in the left state, or backward-first shots that end in the right state. These trajectories could never satisfy the left-to-right ensemble. You also see far more left-to-left or right-to-right paths here."
   ]
  },
  {
   "cell_type": "markdown",
   "metadata": {},
   "source": [
    "## Using the two-way shooting move strategy\n",
    "\n",
    "As with most path movers in OpenPathSampling, the preferred way to select two-way shooting is to use its associated move strategy. This is also the easiest way. All you need to do is select an approach for the shooting point selection (`selector`) and for modifying the shooting point (`modifier`)."
   ]
  },
  {
   "cell_type": "code",
   "execution_count": 11,
   "metadata": {
    "collapsed": true
   },
   "outputs": [],
   "source": [
    "strategy = paths.strategies.TwoWayShootingStrategy(modifier=thermal_randomizer,\n",
    "                                                   selector=paths.UniformSelector(),\n",
    "                                                   engine=engine)"
   ]
  },
  {
   "cell_type": "code",
   "execution_count": 12,
   "metadata": {
    "collapsed": false
   },
   "outputs": [],
   "source": [
    "scheme_thermal = paths.OneWayShootingMoveScheme(\n",
    "    network=network,\n",
    "    selector=paths.UniformSelector(),\n",
    "    engine=engine\n",
    ")\n",
    "scheme_thermal.append(strategy)"
   ]
  },
  {
   "cell_type": "code",
   "execution_count": 13,
   "metadata": {
    "collapsed": false
   },
   "outputs": [],
   "source": [
    "storage = paths.Storage(\"thermal.nc\", \"w\")"
   ]
  },
  {
   "cell_type": "code",
   "execution_count": 14,
   "metadata": {
    "collapsed": false
   },
   "outputs": [
    {
     "name": "stdout",
     "output_type": "stream",
     "text": [
      "Working on Monte Carlo cycle number 100\n",
      "Running for 6 seconds - 15.75 steps per second\n",
      "Expected time to finish: 0 seconds\n",
      "DONE! Completed 100 Monte Carlo cycles.\n"
     ]
    }
   ],
   "source": [
    "simulation = paths.PathSampling(storage=storage,\n",
    "                                move_scheme=scheme_thermal,\n",
    "                                sample_set=initial_conditions)\n",
    "simulation.run(100)"
   ]
  },
  {
   "cell_type": "code",
   "execution_count": 15,
   "metadata": {
    "collapsed": false
   },
   "outputs": [
    {
     "name": "stdout",
     "output_type": "stream",
     "text": [
      "shooting ran 100.000% (expected 100.00%) of the cycles with acceptance 11/100 (11.00%)\n"
     ]
    }
   ],
   "source": [
    "scheme_thermal.move_summary(storage.steps)\n",
    "storage.close()"
   ]
  },
  {
   "cell_type": "markdown",
   "metadata": {},
   "source": [
    "This is a pretty low acceptance probability. Let's try the same, but with the direction based modifier:"
   ]
  },
  {
   "cell_type": "code",
   "execution_count": 16,
   "metadata": {
    "collapsed": true
   },
   "outputs": [],
   "source": [
    "scheme_direction = paths.OneWayShootingMoveScheme(\n",
    "    network=network,\n",
    "    selector=paths.UniformSelector(),\n",
    "    engine=engine\n",
    ")\n",
    "scheme_direction.append(\n",
    "    paths.strategies.TwoWayShootingStrategy(modifier=direction_modifier,\n",
    "                                            selector=paths.UniformSelector(),\n",
    "                                            engine=engine)\n",
    ")"
   ]
  },
  {
   "cell_type": "code",
   "execution_count": 17,
   "metadata": {
    "collapsed": true
   },
   "outputs": [],
   "source": [
    "storage = paths.Storage(\"direction.nc\", \"w\")"
   ]
  },
  {
   "cell_type": "code",
   "execution_count": 18,
   "metadata": {
    "collapsed": false
   },
   "outputs": [
    {
     "name": "stdout",
     "output_type": "stream",
     "text": [
      "Working on Monte Carlo cycle number 100\n",
      "Running for 9 seconds - 10.74 steps per second\n",
      "Expected time to finish: 0 seconds\n",
      "DONE! Completed 100 Monte Carlo cycles.\n"
     ]
    }
   ],
   "source": [
    "simulation = paths.PathSampling(storage=storage,\n",
    "                                move_scheme=scheme_direction,\n",
    "                                sample_set=initial_conditions)\n",
    "simulation.run(100)"
   ]
  },
  {
   "cell_type": "code",
   "execution_count": 19,
   "metadata": {
    "collapsed": false
   },
   "outputs": [
    {
     "name": "stdout",
     "output_type": "stream",
     "text": [
      "shooting ran 100.000% (expected 100.00%) of the cycles with acceptance 79/100 (79.00%)\n"
     ]
    }
   ],
   "source": [
    "scheme_direction.move_summary(storage.steps)"
   ]
  },
  {
   "cell_type": "markdown",
   "metadata": {},
   "source": [
    "This acceptance probability is actually too *high*. It indicates that each trajectory is probability too much like the previous trajectory. The acceptance can be decreased by increasing the delta-v.\n",
    "\n",
    "Why is the direction-based modifier better than thermal randomization for this system? Fundamentally, the issue is that this model is very ballistic. The thermostat friction is so low that this is effectively deterministic. If the motion is ballistic, then completely randomizing your velocity is likely to do a lot of harm to your chances of getting another crossing. On the other hand, if you have diffusive dynamics, then the system will largely lose memory of the direction of your velocity in some relatively short time frame. In that case, thermal randomization should be just as good as direction modification (and it works in more situations, e.g., with constraints.)"
   ]
  },
  {
   "cell_type": "code",
   "execution_count": null,
   "metadata": {
    "collapsed": true
   },
   "outputs": [],
   "source": []
  }
 ],
 "metadata": {
  "kernelspec": {
   "display_name": "Python 2",
   "language": "python",
   "name": "python2"
  },
  "language_info": {
   "codemirror_mode": {
    "name": "ipython",
    "version": 2
   },
   "file_extension": ".py",
   "mimetype": "text/x-python",
   "name": "python",
   "nbconvert_exporter": "python",
   "pygments_lexer": "ipython2",
   "version": "2.7.12"
  }
 },
 "nbformat": 4,
 "nbformat_minor": 1
}
